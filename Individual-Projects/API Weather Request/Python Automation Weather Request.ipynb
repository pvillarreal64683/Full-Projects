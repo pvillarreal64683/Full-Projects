{
 "cells": [
  {
   "cell_type": "code",
   "execution_count": null,
   "id": "ebd6ac6a",
   "metadata": {},
   "outputs": [],
   "source": [
    "## This project is about working with an API (Application Program Interface); this is a resource that will allow me to get some data or send a request for data and modify some information\n",
    "\n",
    "# This API gives us weather information from around the world\n",
    "# The API is OpenWeather: https://openweathermap.org/"
   ]
  },
  {
   "cell_type": "code",
   "execution_count": 1,
   "id": "44f82cec",
   "metadata": {},
   "outputs": [],
   "source": [
    "# This is the python module I need to install in order to work this project \n",
    "\n",
    "import requests"
   ]
  },
  {
   "cell_type": "code",
   "execution_count": 4,
   "id": "4e948a2f",
   "metadata": {},
   "outputs": [],
   "source": [
    "# I need an API key which I got from the OpenWeather website\n",
    "# The Base URL is where we are sending the request to\n",
    "\n",
    "API_Key = \"4ce6ffefb8b54bd7bc5ddfefaf3ea69d\"\n",
    "Base_URL = \"http://api.openweathermap.org/data/2.5/weather\""
   ]
  },
  {
   "cell_type": "code",
   "execution_count": 12,
   "id": "cfb48649",
   "metadata": {},
   "outputs": [
    {
     "name": "stdout",
     "output_type": "stream",
     "text": [
      "Enter a city name: Cotulla\n"
     ]
    }
   ],
   "source": [
    "# This is the data we request in order to get what city's weather information we want\n",
    "# I need to create a \"request_url\"\n",
    "# Here I use a \"get\" request because I am retrieving data. With this requests.get I get a response when I imput the name of the city which weather I am seeking\n",
    "\n",
    "city = input(\"Enter a city name: \")\n",
    "request_url = f\"{Base_URL}?appid={API_Key}&q={city}\"\n",
    "response = requests.get(request_url)"
   ]
  },
  {
   "cell_type": "code",
   "execution_count": 13,
   "id": "8dbe2f82",
   "metadata": {},
   "outputs": [
    {
     "name": "stdout",
     "output_type": "stream",
     "text": [
      "Weather: few clouds\n",
      "Temperature: 40.1 celsius\n"
     ]
    }
   ],
   "source": [
    "# I get the temperature in Kelvin so I need to convert (thus [\"temp\"] - 273.15) in order to get celsius and I am rounding the large number to the 2 decimal places\n",
    "# Once I run the code below, I will get either the information for the city I requested OR if the API does not have the information for the city I typed then I will get \"An error occurred.\"\n",
    "\n",
    "if response.status_code == 200:\n",
    "    data = response.json()\n",
    "    weather = data['weather'][0]['description']\n",
    "    temperature = round(data[\"main\"][\"temp\"] - 273.15, 2)\n",
    "\n",
    "    print(\"Weather:\", weather)\n",
    "    print(\"Temperature:\", temperature, \"celsius\")\n",
    "else:\n",
    "    print(\"An error occurred.\")"
   ]
  },
  {
   "cell_type": "code",
   "execution_count": null,
   "id": "1a937caa",
   "metadata": {},
   "outputs": [],
   "source": []
  }
 ],
 "metadata": {
  "kernelspec": {
   "display_name": "Python 3 (ipykernel)",
   "language": "python",
   "name": "python3"
  },
  "language_info": {
   "codemirror_mode": {
    "name": "ipython",
    "version": 3
   },
   "file_extension": ".py",
   "mimetype": "text/x-python",
   "name": "python",
   "nbconvert_exporter": "python",
   "pygments_lexer": "ipython3",
   "version": "3.10.5"
  }
 },
 "nbformat": 4,
 "nbformat_minor": 5
}
